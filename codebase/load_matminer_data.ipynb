{
 "cells": [
  {
   "cell_type": "code",
   "execution_count": 32,
   "metadata": {},
   "outputs": [],
   "source": [
    "from matminer.datasets import load_dataset\n",
    "from matminer.featurizers.composition import ElementProperty\n",
    "from pymatgen.core import Composition\n",
    "import matminer.datasets\n",
    "import pandas as pd\n",
    "from pymatgen.ext.matproj import MPRester\n",
    "from ase import Atoms\n",
    "from pymatgen.io.ase import AseAtomsAdaptor\n",
    "from dscribe.descriptors import SOAP\n",
    "import numpy as np\n",
    "import re\n"
   ]
  },
  {
   "cell_type": "markdown",
   "metadata": {},
   "source": [
    "## Band Gap energy\n",
    "Load in the dft and experimental data. Convert dft compositional data to formula to match the experimental formula."
   ]
  },
  {
   "cell_type": "code",
   "execution_count": 2,
   "metadata": {},
   "outputs": [
    {
     "name": "stdout",
     "output_type": "stream",
     "text": [
      "(2481, 3)\n"
     ]
    },
    {
     "data": {
      "text/html": [
       "<div>\n",
       "<style scoped>\n",
       "    .dataframe tbody tr th:only-of-type {\n",
       "        vertical-align: middle;\n",
       "    }\n",
       "\n",
       "    .dataframe tbody tr th {\n",
       "        vertical-align: top;\n",
       "    }\n",
       "\n",
       "    .dataframe thead th {\n",
       "        text-align: right;\n",
       "    }\n",
       "</style>\n",
       "<table border=\"1\" class=\"dataframe\">\n",
       "  <thead>\n",
       "    <tr style=\"text-align: right;\">\n",
       "      <th></th>\n",
       "      <th>likely_mpid</th>\n",
       "      <th>expt_gap</th>\n",
       "      <th>formula</th>\n",
       "    </tr>\n",
       "  </thead>\n",
       "  <tbody>\n",
       "    <tr>\n",
       "      <th>1</th>\n",
       "      <td>mp-29717</td>\n",
       "      <td>0.00</td>\n",
       "      <td>Ag(W3Br7)2</td>\n",
       "    </tr>\n",
       "    <tr>\n",
       "      <th>5</th>\n",
       "      <td>mp-23558</td>\n",
       "      <td>0.00</td>\n",
       "      <td>Ag2BiO3</td>\n",
       "    </tr>\n",
       "    <tr>\n",
       "      <th>6</th>\n",
       "      <td>mp-9900</td>\n",
       "      <td>1.98</td>\n",
       "      <td>Ag2GeS3</td>\n",
       "    </tr>\n",
       "    <tr>\n",
       "      <th>8</th>\n",
       "      <td>mp-23485</td>\n",
       "      <td>2.47</td>\n",
       "      <td>Ag2HgI4</td>\n",
       "    </tr>\n",
       "    <tr>\n",
       "      <th>9</th>\n",
       "      <td>mp-1203404</td>\n",
       "      <td>3.06</td>\n",
       "      <td>Ag2Mo(I2O7)2</td>\n",
       "    </tr>\n",
       "  </tbody>\n",
       "</table>\n",
       "</div>"
      ],
      "text/plain": [
       "  likely_mpid  expt_gap       formula\n",
       "1    mp-29717      0.00    Ag(W3Br7)2\n",
       "5    mp-23558      0.00       Ag2BiO3\n",
       "6     mp-9900      1.98       Ag2GeS3\n",
       "8    mp-23485      2.47       Ag2HgI4\n",
       "9  mp-1203404      3.06  Ag2Mo(I2O7)2"
      ]
     },
     "metadata": {},
     "output_type": "display_data"
    },
    {
     "name": "stderr",
     "output_type": "stream",
     "text": [
      "/Users/cadenmyers/miniconda3/envs/ml4ms/lib/python3.13/site-packages/pymatgen/core/periodic_table.py:289: UserWarning: No Pauling electronegativity for Ar. Setting to NaN. This has no physical meaning, and is mainly done to avoid errors caused by the code expecting a float.\n",
      "  warnings.warn(\n",
      "/Users/cadenmyers/miniconda3/envs/ml4ms/lib/python3.13/site-packages/pymatgen/core/periodic_table.py:289: UserWarning: No Pauling electronegativity for He. Setting to NaN. This has no physical meaning, and is mainly done to avoid errors caused by the code expecting a float.\n",
      "  warnings.warn(\n",
      "/Users/cadenmyers/miniconda3/envs/ml4ms/lib/python3.13/site-packages/pymatgen/core/periodic_table.py:289: UserWarning: No Pauling electronegativity for Ne. Setting to NaN. This has no physical meaning, and is mainly done to avoid errors caused by the code expecting a float.\n",
      "  warnings.warn(\n"
     ]
    },
    {
     "name": "stdout",
     "output_type": "stream",
     "text": [
      "(7349, 8)\n"
     ]
    },
    {
     "data": {
      "text/html": [
       "<div>\n",
       "<style scoped>\n",
       "    .dataframe tbody tr th:only-of-type {\n",
       "        vertical-align: middle;\n",
       "    }\n",
       "\n",
       "    .dataframe tbody tr th {\n",
       "        vertical-align: top;\n",
       "    }\n",
       "\n",
       "    .dataframe thead th {\n",
       "        text-align: right;\n",
       "    }\n",
       "</style>\n",
       "<table border=\"1\" class=\"dataframe\">\n",
       "  <thead>\n",
       "    <tr style=\"text-align: right;\">\n",
       "      <th></th>\n",
       "      <th>structure</th>\n",
       "      <th>e_form</th>\n",
       "      <th>structure initial</th>\n",
       "      <th>gap tbmbj</th>\n",
       "      <th>mpid</th>\n",
       "      <th>gap opt</th>\n",
       "      <th>composition</th>\n",
       "      <th>formula</th>\n",
       "    </tr>\n",
       "  </thead>\n",
       "  <tbody>\n",
       "    <tr>\n",
       "      <th>59</th>\n",
       "      <td>[[ 8.9342299   3.79961599 -6.97400918] Mg, [ 3...</td>\n",
       "      <td>-2.896</td>\n",
       "      <td>[[ 8.9825888   3.8061472  -7.01147537] Mg, [ 3...</td>\n",
       "      <td>7.8043</td>\n",
       "      <td>mp-6596</td>\n",
       "      <td>5.2711</td>\n",
       "      <td>(Mg, Al, P, O)</td>\n",
       "      <td>MgAlPO5</td>\n",
       "    </tr>\n",
       "    <tr>\n",
       "      <th>68</th>\n",
       "      <td>[[1.25762093 4.13616104 2.44785671] K, [3.7426...</td>\n",
       "      <td>-2.657</td>\n",
       "      <td>[[1.26002845 4.20573168 2.5197491 ] K, [3.7544...</td>\n",
       "      <td>8.3622</td>\n",
       "      <td>mp-7324</td>\n",
       "      <td>5.6141</td>\n",
       "      <td>(K, Be, P, O)</td>\n",
       "      <td>KBePO4</td>\n",
       "    </tr>\n",
       "    <tr>\n",
       "      <th>75</th>\n",
       "      <td>[[3.1506963  4.30596127 3.56982179] As, [0.384...</td>\n",
       "      <td>0.025</td>\n",
       "      <td>[[3.17888147 4.36479751 3.69558323] As, [0.381...</td>\n",
       "      <td>0.6495</td>\n",
       "      <td>mp-158</td>\n",
       "      <td>0.0221</td>\n",
       "      <td>(As)</td>\n",
       "      <td>As</td>\n",
       "    </tr>\n",
       "    <tr>\n",
       "      <th>80</th>\n",
       "      <td>[[0.37213617 3.67987527 0.87369073] H, [1.4889...</td>\n",
       "      <td>-1.184</td>\n",
       "      <td>[[0.34436223 3.69323659 0.87470146] H, [1.4990...</td>\n",
       "      <td>0.0083</td>\n",
       "      <td>mp-24242</td>\n",
       "      <td>0.0038</td>\n",
       "      <td>(H, O, F, Cu)</td>\n",
       "      <td>CuHOF</td>\n",
       "    </tr>\n",
       "    <tr>\n",
       "      <th>83</th>\n",
       "      <td>[[ 0.92796672  1.82915421 10.16747299] O, [2.7...</td>\n",
       "      <td>-2.086</td>\n",
       "      <td>[[ 0.938753    1.84002706 10.93783201] O, [2.8...</td>\n",
       "      <td>2.4642</td>\n",
       "      <td>mp-510584</td>\n",
       "      <td>1.9202</td>\n",
       "      <td>(O, Mo)</td>\n",
       "      <td>MoO3</td>\n",
       "    </tr>\n",
       "  </tbody>\n",
       "</table>\n",
       "</div>"
      ],
      "text/plain": [
       "                                            structure  e_form  \\\n",
       "59  [[ 8.9342299   3.79961599 -6.97400918] Mg, [ 3...  -2.896   \n",
       "68  [[1.25762093 4.13616104 2.44785671] K, [3.7426...  -2.657   \n",
       "75  [[3.1506963  4.30596127 3.56982179] As, [0.384...   0.025   \n",
       "80  [[0.37213617 3.67987527 0.87369073] H, [1.4889...  -1.184   \n",
       "83  [[ 0.92796672  1.82915421 10.16747299] O, [2.7...  -2.086   \n",
       "\n",
       "                                    structure initial  gap tbmbj       mpid  \\\n",
       "59  [[ 8.9825888   3.8061472  -7.01147537] Mg, [ 3...     7.8043    mp-6596   \n",
       "68  [[1.26002845 4.20573168 2.5197491 ] K, [3.7544...     8.3622    mp-7324   \n",
       "75  [[3.17888147 4.36479751 3.69558323] As, [0.381...     0.6495     mp-158   \n",
       "80  [[0.34436223 3.69323659 0.87470146] H, [1.4990...     0.0083   mp-24242   \n",
       "83  [[ 0.938753    1.84002706 10.93783201] O, [2.8...     2.4642  mp-510584   \n",
       "\n",
       "    gap opt     composition  formula  \n",
       "59   5.2711  (Mg, Al, P, O)  MgAlPO5  \n",
       "68   5.6141   (K, Be, P, O)   KBePO4  \n",
       "75   0.0221            (As)       As  \n",
       "80   0.0038   (H, O, F, Cu)    CuHOF  \n",
       "83   1.9202         (O, Mo)     MoO3  "
      ]
     },
     "metadata": {},
     "output_type": "display_data"
    }
   ],
   "source": [
    "# load experimental data\n",
    "df_exp = load_dataset('expt_gap_kingsbury')\n",
    "df_exp = df_exp.dropna(subset=['likely_mpid'])\n",
    "print(df_exp.shape)\n",
    "display(df_exp.head())\n",
    "\n",
    "# load DFT data\n",
    "df_dft = load_dataset('jarvis_dft_3d')\n",
    "df_dft = df_dft.drop(columns=['epsilon_x opt', 'epsilon_y opt', 'epsilon_z opt', 'shear modulus', 'bulk modulus', 'jid', 'epsilon_x tbmbj', 'epsilon_y tbmbj', 'epsilon_z tbmbj'])\n",
    "df_dft['formula'] = df_dft['composition'].apply(lambda x: x.reduced_formula) # convert composition to formula\n",
    "df_dft = df_dft.dropna()\n",
    "print(df_dft.shape)\n",
    "display(df_dft.head())"
   ]
  },
  {
   "cell_type": "markdown",
   "metadata": {},
   "source": [
    "Create a dataframe of dft data for MP-ID's that are in both the experimental and dft datasets."
   ]
  },
  {
   "cell_type": "code",
   "execution_count": null,
   "metadata": {},
   "outputs": [
    {
     "name": "stdout",
     "output_type": "stream",
     "text": [
      "(329, 8)\n"
     ]
    }
   ],
   "source": [
    "df_dft_filtered = df_dft[df_dft['mpid'].isin(df_exp['likely_mpid'])].reset_index(drop=True)\n",
    "print(df_dft_filtered.shape)"
   ]
  },
  {
   "cell_type": "markdown",
   "metadata": {},
   "source": [
    "## Extract the total number of species in the dataset\n",
    "This is necessary because our vector size for the algorithm must be the same shape. This ensures that the SOAP vector (see below) is of equal shape. Will will feed in all the species in a dataset. This will generate a lot of entries that are zero. This should be good for ML since its an additional source of information."
   ]
  },
  {
   "cell_type": "code",
   "execution_count": 37,
   "metadata": {},
   "outputs": [
    {
     "name": "stdout",
     "output_type": "stream",
     "text": [
      "Unique species in DFT data: ['F', 'Pb', 'Mn', 'H', 'As', 'Hg', 'Sr', 'Ru', 'P', 'Ni', 'Tc', 'Ar', 'Co', 'Sc', 'B', 'Si', 'Yb', 'Ba', 'W', 'I', 'O', 'N', 'Zn', 'Nd', 'Sm', 'Lu', 'Cr', 'Ga', 'Na', 'Ta', 'S', 'Te', 'Pt', 'Mo', 'Pd', 'Ag', 'Pr', 'Tb', 'Pa', 'Re', 'Ho', 'Tm', 'Cs', 'Ne', 'Os', 'Ir', 'C', 'V', 'Sn', 'U', 'Sb', 'Rb', 'Y', 'Hf', 'Li', 'K', 'Cd', 'Th', 'Ti', 'Be', 'Mg', 'Ge', 'Rh', 'Nb', 'Fe', 'Zr', 'In', 'Kr', 'Tl', 'Cu', 'Se', 'Dy', 'Bi', 'Cl', 'Ca', 'Ce', 'He', 'Er', 'Al', 'Au', 'Br', 'La']\n",
      "Unique species in experimental data: ['F', 'Pb', 'Mn', 'H', 'Hg', 'As', 'Sr', 'Ru', 'P', 'Ni', 'Tc', 'Co', 'Sc', 'B', 'Si', 'Yb', 'Xe', 'Ba', 'W', 'I', 'O', 'N', 'Zn', 'Nd', 'Sm', 'Lu', 'Cr', 'Ga', 'Na', 'Gd', 'Ta', 'S', 'Te', 'Pt', 'Mo', 'Pd', 'Ag', 'Pr', 'Tb', 'Re', 'Ho', 'Tm', 'Cs', 'Os', 'Ir', 'C', 'Sn', 'V', 'U', 'Sb', 'Rb', 'Y', 'Hf', 'Li', 'K', 'Cd', 'Th', 'Ti', 'Be', 'Mg', 'Eu', 'Ge', 'Rh', 'Fe', 'Nb', 'Zr', 'In', 'Tl', 'Cu', 'Se', 'Dy', 'Bi', 'Cl', 'Ca', 'Ce', 'Er', 'Al', 'Au', 'Br', 'La']\n"
     ]
    }
   ],
   "source": [
    "species_regex = r'[A-Z][a-z]*'  # Matches capital letter followed by lowercase letters\n",
    "\n",
    "# Function to extract species from a single formula\n",
    "def extract_species(formula):\n",
    "    return set(re.findall(species_regex, formula))\n",
    "\n",
    "# Function to extract species from a formula\n",
    "def extract_species_from_df_column(df_column):\n",
    "    # Apply the function to the dataframe column and get species\n",
    "    all_species = set()\n",
    "    species = df_column.apply(extract_species)\n",
    "    # Collect all species into a single set\n",
    "    for species_list in species:\n",
    "        all_species.update(species_list)\n",
    "    return list(all_species)\n",
    "\n",
    "dft_unique_species = extract_species_from_df_column(df_dft['formula'])\n",
    "print('Unique species in DFT data:', dft_unique_species)\n",
    "\n",
    "exp_unique_species = extract_species_from_df_column(df_exp['formula'])\n",
    "print('Unique species in experimental data:', exp_unique_species)"
   ]
  },
  {
   "cell_type": "markdown",
   "metadata": {},
   "source": [
    "## Generate the SOAP descriptor\n",
    "\n",
    "The **SOAP (Smooth Overlap of Atomic Positions)** descriptor is a powerful tool used in computational materials science to represent the local atomic environment of a material. It encodes information about the local symmetry and structure of atoms in a material, making it suitable for use in machine learning models that predict material properties.\n",
    "\n",
    "### Key Features:\n",
    "- **Local Environment Representation**: The SOAP descriptor captures the atomic environment around each atom in a structure, using a smooth overlap of atomic positions.\n",
    "- **Spherical Harmonics**: The descriptor uses spherical harmonics to represent angular information, allowing it to effectively capture local symmetries.\n",
    "- **Radial Basis Functions**: The radial part of the descriptor is represented using radial basis functions, which help model the distances between atoms.\n",
    "- **Species Specific**: The descriptor can incorporate the chemical species present in the structure, allowing it to adapt to different materials.\n",
    "\n",
    "### How It Works:\n",
    "1. **Structure Representation**: The local atomic environment of each atom is represented by a combination of radial and angular functions.\n",
    "2. **Cutoff Radius**: Only atoms within a certain cutoff radius contribute to the descriptor, ensuring computational efficiency.\n",
    "3. **Smearing**: Gaussian smearing is used to smooth the atomic positions, ensuring a continuous representation.\n",
    "4. **Periodic Structures**: SOAP can be used to model periodic structures such as crystals, making it suitable for large-scale materials simulations.\n"
   ]
  },
  {
   "cell_type": "code",
   "execution_count": null,
   "metadata": {},
   "outputs": [
    {
     "name": "stderr",
     "output_type": "stream",
     "text": [
      "Retrieving MaterialsDoc documents: 100%|██████████| 1/1 [00:00<00:00, 16912.52it/s]\n"
     ]
    },
    {
     "ename": "ValueError",
     "evalue": "The provided species list does not match the species in the structure.",
     "output_type": "error",
     "traceback": [
      "\u001b[0;31m---------------------------------------------------------------------------\u001b[0m",
      "\u001b[0;31mValueError\u001b[0m                                Traceback (most recent call last)",
      "Cell \u001b[0;32mIn[40], line 38\u001b[0m\n\u001b[1;32m     35\u001b[0m     \u001b[38;5;28;01mreturn\u001b[39;00m soap_descriptors\n\u001b[1;32m     37\u001b[0m mpids \u001b[38;5;241m=\u001b[39m df_dft[\u001b[38;5;124m'\u001b[39m\u001b[38;5;124mmpid\u001b[39m\u001b[38;5;124m'\u001b[39m]\u001b[38;5;241m.\u001b[39mtolist()\n\u001b[0;32m---> 38\u001b[0m soap_descriptor \u001b[38;5;241m=\u001b[39m \u001b[43mgenerate_soap_descriptor\u001b[49m\u001b[43m(\u001b[49m\u001b[43mmp_id\u001b[49m\u001b[38;5;241;43m=\u001b[39;49m\u001b[43m \u001b[49m\u001b[43mmpids\u001b[49m\u001b[43m[\u001b[49m\u001b[38;5;241;43m0\u001b[39;49m\u001b[43m]\u001b[49m\u001b[43m,\u001b[49m\u001b[43m \u001b[49m\u001b[43mspecies_list\u001b[49m\u001b[38;5;241;43m=\u001b[39;49m\u001b[43mdft_unique_species\u001b[49m\u001b[43m)\u001b[49m\n",
      "Cell \u001b[0;32mIn[40], line 19\u001b[0m, in \u001b[0;36mgenerate_soap_descriptor\u001b[0;34m(mp_id, species_list, API_KEY)\u001b[0m\n\u001b[1;32m     17\u001b[0m \u001b[38;5;66;03m# Ensure that the provided species list is a subset of the species in the structure\u001b[39;00m\n\u001b[1;32m     18\u001b[0m \u001b[38;5;28;01mif\u001b[39;00m \u001b[38;5;129;01mnot\u001b[39;00m \u001b[38;5;28mall\u001b[39m(species \u001b[38;5;129;01min\u001b[39;00m structure_species \u001b[38;5;28;01mfor\u001b[39;00m species \u001b[38;5;129;01min\u001b[39;00m species_list):\n\u001b[0;32m---> 19\u001b[0m     \u001b[38;5;28;01mraise\u001b[39;00m \u001b[38;5;167;01mValueError\u001b[39;00m(\u001b[38;5;124m\"\u001b[39m\u001b[38;5;124mThe provided species list does not match the species in the structure.\u001b[39m\u001b[38;5;124m\"\u001b[39m)\n\u001b[1;32m     21\u001b[0m \u001b[38;5;66;03m# 5. Set up SOAP descriptor\u001b[39;00m\n\u001b[1;32m     22\u001b[0m soap \u001b[38;5;241m=\u001b[39m SOAP(\n\u001b[1;32m     23\u001b[0m     species\u001b[38;5;241m=\u001b[39mspecies_list,   \u001b[38;5;66;03m# List of elements present (user-specified)\u001b[39;00m\n\u001b[1;32m     24\u001b[0m     periodic\u001b[38;5;241m=\u001b[39m\u001b[38;5;28;01mTrue\u001b[39;00m,          \u001b[38;5;66;03m# Is the structure periodic? (crystals = True, molecules = False)\u001b[39;00m\n\u001b[0;32m   (...)\u001b[0m\n\u001b[1;32m     29\u001b[0m     sparse\u001b[38;5;241m=\u001b[39m\u001b[38;5;28;01mFalse\u001b[39;00m            \u001b[38;5;66;03m# Should output be dense NumPy array? (False = full array; True = sparse matrix for memory saving)\u001b[39;00m\n\u001b[1;32m     30\u001b[0m )\n",
      "\u001b[0;31mValueError\u001b[0m: The provided species list does not match the species in the structure."
     ]
    }
   ],
   "source": [
    "API_KEY = \"cmeSCicjBiIc0Nk02lArDwjO4V0jyXKw\" # get your API key by making a materials project account https://materialsproject.org/\n",
    "\n",
    "\n",
    "def generate_soap_descriptor(mp_id, species_list, API_KEY=API_KEY):\n",
    "    # 1. Connect to Materials Project\n",
    "    mpr = MPRester(API_KEY)\n",
    "    \n",
    "    # 2. Fetch structure by MP-ID\n",
    "    structure_pmg = mpr.get_structure_by_material_id(mp_id)\n",
    "\n",
    "    # 3. Convert pymatgen structure to ASE Atoms\n",
    "    ase_structure = AseAtomsAdaptor.get_atoms(structure_pmg)\n",
    "\n",
    "    # 4. Check if species from provided list matches with the structure\n",
    "    structure_species = list(set(ase_structure.get_chemical_symbols()))  # Unique elements in the structure\n",
    "    \n",
    "    # Ensure that the provided species list is a subset of the species in the structure\n",
    "    if not all(species in structure_species for species in species_list):\n",
    "        raise ValueError(\"The provided species list does not match the species in the structure.\")\n",
    "\n",
    "    # 5. Set up SOAP descriptor\n",
    "    soap = SOAP(\n",
    "        species=species_list,   # List of elements present (user-specified)\n",
    "        periodic=True,          # Is the structure periodic? (crystals = True, molecules = False)\n",
    "        r_cut=5.0,              # Cutoff radius (Å)\n",
    "        n_max=8,                # Number of radial basis functions\n",
    "        l_max=6,                # Maximum degree of spherical harmonics\n",
    "        sigma=0.5,              # Width (smearing) of Gaussians placed on atoms (Å)\n",
    "        sparse=False            # Should output be dense NumPy array? (False = full array; True = sparse matrix for memory saving)\n",
    "    )\n",
    "\n",
    "    # 6. Create SOAP descriptors\n",
    "    soap_descriptors = soap.create(ase_structure)\n",
    "\n",
    "    return soap_descriptors\n",
    "\n",
    "mpids = df_dft['mpid'].tolist()\n",
    "soap_descriptor = generate_soap_descriptor(mp_id= mpids[0], species_list=dft_unique_species)"
   ]
  },
  {
   "cell_type": "code",
   "execution_count": null,
   "metadata": {},
   "outputs": [],
   "source": []
  }
 ],
 "metadata": {
  "kernelspec": {
   "display_name": "ml4ms",
   "language": "python",
   "name": "python3"
  },
  "language_info": {
   "codemirror_mode": {
    "name": "ipython",
    "version": 3
   },
   "file_extension": ".py",
   "mimetype": "text/x-python",
   "name": "python",
   "nbconvert_exporter": "python",
   "pygments_lexer": "ipython3",
   "version": "3.13.1"
  }
 },
 "nbformat": 4,
 "nbformat_minor": 2
}
